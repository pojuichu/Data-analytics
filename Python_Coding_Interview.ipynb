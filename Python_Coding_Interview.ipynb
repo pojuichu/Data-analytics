{
 "cells": [
  {
   "cell_type": "markdown",
   "metadata": {},
   "source": [
    "# Intro to Python"
   ]
  },
  {
   "cell_type": "markdown",
   "metadata": {},
   "source": [
    "This tutorial will help introduce you to python syntax, basic python modules, and resources for solving your python problems."
   ]
  },
  {
   "cell_type": "markdown",
   "metadata": {},
   "source": [
    "## Creating a Python Environment ##\n",
    "https://docs.conda.io/projects/conda/en/latest/user-guide/tasks/manage-environments.html"
   ]
  },
  {
   "cell_type": "markdown",
   "metadata": {},
   "source": [
    "## Syntax ##\n",
    "\n",
    "I will try to explain some of the basics of python syntax, but first we will explain what we are doing here. Anaconda is a python distribution which makes things much easier for a first-time programmer. There are various Integrated Development Environments provided by anaconda, including spyder, jupyter notebook, and jupyter lab. This is jupyter notebook. It is great for presentations or running short scripts, but I do not recommend it for writing serious code. It is better if you have portions of your code that you need to run once and then never again, but I'll get into that later.\n",
    "\n",
    "Basic syntax can be found here https://www.w3schools.com/python/python_syntax.asp\n",
    "I will give some examples of basic syntax while explaining a python function.\n",
    "\n",
    "\n",
    "First we will define a function which takes an input variable and multiplies it by five\n",
    "\n",
    "### Functions ###"
   ]
  },
  {
   "cell_type": "code",
   "execution_count": 5,
   "metadata": {},
   "outputs": [
    {
     "data": {
      "text/plain": [
       "25"
      ]
     },
     "execution_count": 5,
     "metadata": {},
     "output_type": "execute_result"
    }
   ],
   "source": [
    "def times_five(a):\n",
    "    a = 5*a\n",
    "#     a =   a *= 5\n",
    "    return a   \n",
    "\n",
    "x= 5\n",
    "\n",
    "times_five(x)"
   ]
  },
  {
   "cell_type": "code",
   "execution_count": null,
   "metadata": {},
   "outputs": [],
   "source": [
    "def times_five(a):\n",
    "    a = a*5\n",
    "    return a \n",
    "x = 5 \n",
    "\n",
    "times_five(x)"
   ]
  },
  {
   "cell_type": "markdown",
   "metadata": {},
   "source": [
    "For simple calculations, you can also use a lambda function"
   ]
  },
  {
   "cell_type": "code",
   "execution_count": 6,
   "metadata": {},
   "outputs": [
    {
     "data": {
      "text/plain": [
       "25"
      ]
     },
     "execution_count": 6,
     "metadata": {},
     "output_type": "execute_result"
    }
   ],
   "source": [
    "times_5 = lambda a: a*5\n",
    "times_5(x)"
   ]
  },
  {
   "cell_type": "code",
   "execution_count": 7,
   "metadata": {},
   "outputs": [
    {
     "data": {
      "text/plain": [
       "30"
      ]
     },
     "execution_count": 7,
     "metadata": {},
     "output_type": "execute_result"
    }
   ],
   "source": [
    "time_5 = lambda a: a*5\n",
    "x =6\n",
    "time_5(x)"
   ]
  },
  {
   "cell_type": "markdown",
   "metadata": {},
   "source": [
    "Python has a couple built in functions. The $range$ function is a built-in python function which takes an start, a stop, and a step size, and returns a list. "
   ]
  },
  {
   "cell_type": "code",
   "execution_count": 8,
   "metadata": {},
   "outputs": [
    {
     "data": {
      "text/plain": [
       "[0, 1, 2, 3, 4, 5, 6, 7, 8, 9]"
      ]
     },
     "execution_count": 8,
     "metadata": {},
     "output_type": "execute_result"
    }
   ],
   "source": [
    "list(range(10))"
   ]
  },
  {
   "cell_type": "markdown",
   "metadata": {},
   "source": [
    "A list is a python iterable object which can hold floats, strings, functions, matrices, etc. They do not have a definite length and new values can be appended over time."
   ]
  },
  {
   "cell_type": "code",
   "execution_count": 9,
   "metadata": {},
   "outputs": [
    {
     "name": "stdout",
     "output_type": "stream",
     "text": [
      "['bear', 'fox', range(0, 10), 1.0, 0, 1, 2, 3, 4, 5, 6, 7, 8, 9]\n"
     ]
    }
   ],
   "source": [
    "# Example of a list\n",
    "list_1 = ['bear', 'fox',range(10),1.0]\n",
    "\n",
    "for i in range(10):\n",
    "    list_1.append(i)\n",
    "    \n",
    "print(list_1)"
   ]
  },
  {
   "cell_type": "markdown",
   "metadata": {},
   "source": [
    "Python always starts at 0 when indexing. Let's say we want to multiply every integer between 5 and 10 by 5 using the function we just wrote and put them in a list."
   ]
  },
  {
   "cell_type": "code",
   "execution_count": 10,
   "metadata": {},
   "outputs": [
    {
     "name": "stdout",
     "output_type": "stream",
     "text": [
      "[25, 30, 35, 40, 45]\n"
     ]
    }
   ],
   "source": [
    "solution_list = []   #an empty list\n",
    "for i in range(5,10,1):\n",
    "    \n",
    "    solution = times_five(i)  #call the function we just defined with i as the input\n",
    "    \n",
    "    solution_list.append(solution)  #add this solution to the list\n",
    "    \n",
    "print(solution_list)"
   ]
  },
  {
   "cell_type": "code",
   "execution_count": 11,
   "metadata": {},
   "outputs": [
    {
     "data": {
      "text/plain": [
       "[25, 30, 35, 40, 45]"
      ]
     },
     "execution_count": 11,
     "metadata": {},
     "output_type": "execute_result"
    }
   ],
   "source": [
    "new_list = []\n",
    "for i in range(5,10,1):\n",
    "    solution = time_5(i)\n",
    "    new_list.append(solution)\n",
    "new_list"
   ]
  },
  {
   "cell_type": "code",
   "execution_count": 12,
   "metadata": {},
   "outputs": [
    {
     "name": "stdout",
     "output_type": "stream",
     "text": [
      "[25, 30, 35, 40, 45]\n"
     ]
    }
   ],
   "source": [
    "newlist = []\n",
    "\n",
    "for i in range(5,10,1):\n",
    "    solution = times_five(i)\n",
    "    newlist.append(solution)\n",
    "print(newlist)"
   ]
  },
  {
   "cell_type": "code",
   "execution_count": 13,
   "metadata": {},
   "outputs": [
    {
     "data": {
      "text/plain": [
       "[25, 30, 35, 40, 45]"
      ]
     },
     "execution_count": 13,
     "metadata": {},
     "output_type": "execute_result"
    }
   ],
   "source": [
    "new_lsit = [times_5(i) for i in range(5,10)]\n",
    "new_list"
   ]
  },
  {
   "cell_type": "code",
   "execution_count": null,
   "metadata": {},
   "outputs": [],
   "source": [
    "newlist = [times_t(i) for i  in range(5,10)]"
   ]
  },
  {
   "cell_type": "markdown",
   "metadata": {},
   "source": [
    "A more efficient (and easier) way to do this is to use a list comprehension"
   ]
  },
  {
   "cell_type": "code",
   "execution_count": 14,
   "metadata": {},
   "outputs": [
    {
     "data": {
      "text/plain": [
       "25"
      ]
     },
     "execution_count": 14,
     "metadata": {},
     "output_type": "execute_result"
    }
   ],
   "source": [
    "def time_five(a):\n",
    "    a = 5*a\n",
    "    return a\n",
    "time_five(5)"
   ]
  },
  {
   "cell_type": "code",
   "execution_count": 15,
   "metadata": {},
   "outputs": [
    {
     "name": "stdout",
     "output_type": "stream",
     "text": [
      "[15, 20, 25]\n"
     ]
    }
   ],
   "source": [
    "solution_list = [times_five(i) for i in range(3,6)]\n",
    "print(solution_list)"
   ]
  },
  {
   "cell_type": "markdown",
   "metadata": {},
   "source": [
    "Now what if we want to do the same thing, but only add the solution to the list if it is odd\n"
   ]
  },
  {
   "cell_type": "code",
   "execution_count": 16,
   "metadata": {},
   "outputs": [
    {
     "name": "stdout",
     "output_type": "stream",
     "text": [
      "[25, 35, 45]\n"
     ]
    }
   ],
   "source": [
    "solution_list = [times_five(i) for i in range(5,10,1) if times_five(i)%2 == 1]\n",
    "print(solution_list)"
   ]
  },
  {
   "cell_type": "code",
   "execution_count": null,
   "metadata": {},
   "outputs": [],
   "source": [
    "solution list = [times_5(i) for i in range(5,10,1) if times_5(i) %  2 == 1]"
   ]
  },
  {
   "cell_type": "code",
   "execution_count": 17,
   "metadata": {},
   "outputs": [
    {
     "data": {
      "text/plain": [
       "[30, 40]"
      ]
     },
     "execution_count": 17,
     "metadata": {},
     "output_type": "execute_result"
    }
   ],
   "source": [
    "solutionlist = [time_five(i) for i in range(5,10) if time_five(i) %2 != 1]\n",
    "solutionlist"
   ]
  },
  {
   "cell_type": "code",
   "execution_count": 18,
   "metadata": {},
   "outputs": [
    {
     "data": {
      "text/plain": [
       "[30, 40]"
      ]
     },
     "execution_count": 18,
     "metadata": {},
     "output_type": "execute_result"
    }
   ],
   "source": [
    "new_list = [times_five(i) for i in range(5,10,1) if times_5(i)%2 != 1]\n",
    "new_list"
   ]
  },
  {
   "cell_type": "markdown",
   "metadata": {},
   "source": [
    "### Practice Functions ###\n",
    "\n",
    "Write a function which takes two input numbers, xmin and xmax, and returns a list of all even integers between those two values."
   ]
  },
  {
   "cell_type": "code",
   "execution_count": 19,
   "metadata": {},
   "outputs": [],
   "source": [
    "def new_function():\n",
    "    return"
   ]
  },
  {
   "cell_type": "markdown",
   "metadata": {},
   "source": [
    "### Common packages ###\n",
    "\n",
    "\n",
    "Numpy and Matplotlib are two very common packages for dealing with matrices and plotting. We will show a couple of their uses here. The best part about python is that you can type \"How to plot an image in python\" into Google and 1000 different ways will pop up. You can choose one based on your preference. Here are a couple of examples"
   ]
  },
  {
   "cell_type": "code",
   "execution_count": 20,
   "metadata": {},
   "outputs": [],
   "source": [
    "import numpy as np\n",
    "import matplotlib.pyplot as plt"
   ]
  },
  {
   "cell_type": "markdown",
   "metadata": {},
   "source": [
    "Plot y=x^2"
   ]
  },
  {
   "cell_type": "code",
   "execution_count": 21,
   "metadata": {},
   "outputs": [
    {
     "name": "stdout",
     "output_type": "stream",
     "text": [
      "x =  [ 0  1  2  3  4  5  6  7  8  9 10 11 12 13 14]\n",
      "y =  [  0   1   4   9  16  25  36  49  64  81 100 121 144 169 196]\n"
     ]
    },
    {
     "data": {
      "image/png": "[encoded data removed]",
      "text/plain": [
       "<Figure size 432x288 with 1 Axes>"
      ]
     },
     "metadata": {
      "needs_background": "light"
     },
     "output_type": "display_data"
    }
   ],
   "source": [
    "x = np.arange(15)\n",
    "print('x = ',x)\n",
    "y = x**2\n",
    "print('y = ',y)\n",
    "plt.plot(x,y)\n",
    "plt.show()\n"
   ]
  },
  {
   "cell_type": "code",
   "execution_count": 22,
   "metadata": {},
   "outputs": [
    {
     "name": "stdout",
     "output_type": "stream",
     "text": [
      "x= [ 0  3  6  9 12 15 18 21]\n",
      "y= [  0   9  36  81 144 225 324 441]\n"
     ]
    },
    {
     "data": {
      "text/plain": [
       "[<matplotlib.lines.Line2D at 0x1dcb9fd6cd0>]"
      ]
     },
     "execution_count": 22,
     "metadata": {},
     "output_type": "execute_result"
    },
    {
     "data": {
      "image/png": "[encoded data removed]",
      "text/plain": [
       "<Figure size 432x288 with 1 Axes>"
      ]
     },
     "metadata": {
      "needs_background": "light"
     },
     "output_type": "display_data"
    }
   ],
   "source": [
    "x = np.arange(0,22,3)\n",
    "print('x=',x)\n",
    "y= x**(2)\n",
    "print('y=',y)\n",
    "plt.plot(x,y)\n",
    "\n",
    "###np.arange()"
   ]
  },
  {
   "cell_type": "markdown",
   "metadata": {},
   "source": [
    "Plot an array as an image. See how the image is plotted with the x and y axes switched."
   ]
  },
  {
   "cell_type": "code",
   "execution_count": 23,
   "metadata": {},
   "outputs": [
    {
     "name": "stdout",
     "output_type": "stream",
     "text": [
      "[[[0. 0. 0. 0. 0.]\n",
      "  [0. 0. 0. 0. 0.]\n",
      "  [0. 0. 0. 0. 0.]\n",
      "  [0. 0. 0. 0. 0.]\n",
      "  [0. 0. 0. 0. 0.]]\n",
      "\n",
      " [[0. 0. 0. 0. 0.]\n",
      "  [0. 0. 0. 0. 0.]\n",
      "  [0. 0. 0. 0. 0.]\n",
      "  [0. 0. 0. 0. 0.]\n",
      "  [0. 0. 0. 0. 0.]]\n",
      "\n",
      " [[0. 0. 0. 0. 0.]\n",
      "  [0. 0. 0. 0. 0.]\n",
      "  [0. 0. 0. 0. 0.]\n",
      "  [0. 0. 0. 0. 0.]\n",
      "  [0. 0. 0. 0. 0.]]\n",
      "\n",
      " [[0. 0. 0. 0. 0.]\n",
      "  [0. 0. 0. 0. 0.]\n",
      "  [0. 0. 0. 0. 0.]\n",
      "  [0. 0. 0. 0. 0.]\n",
      "  [0. 0. 0. 0. 0.]]\n",
      "\n",
      " [[1. 1. 1. 1. 0.]\n",
      "  [1. 1. 1. 1. 0.]\n",
      "  [1. 1. 1. 1. 0.]\n",
      "  [0. 0. 0. 0. 0.]\n",
      "  [0. 0. 0. 0. 0.]]]\n"
     ]
    },
    {
     "data": {
      "image/png": "[encoded data removed]",
      "text/plain": [
       "<Figure size 432x288 with 2 Axes>"
      ]
     },
     "metadata": {
      "needs_background": "light"
     },
     "output_type": "display_data"
    },
    {
     "name": "stdout",
     "output_type": "stream",
     "text": [
      "0.096 0.0 1.0\n"
     ]
    }
   ],
   "source": [
    "import numpy as np\n",
    "import matplotlib.pyplot as plt\n",
    "x = np.zeros((5,5,5)) #make 10x10 matrix of zeros\n",
    "x[4:8,:3,:-1] = 1\n",
    "print(x)\n",
    "plt.imshow(x[:,:,0])\n",
    "plt.colorbar()\n",
    "plt.show()\n",
    "print(np.mean(x),np.min(x),np.max(x))"
   ]
  },
  {
   "cell_type": "markdown",
   "metadata": {},
   "source": [
    "Numpy is great for linear algebra operations.  https://www.w3schools.com/python/python_operators.asp"
   ]
  },
  {
   "cell_type": "code",
   "execution_count": 37,
   "metadata": {},
   "outputs": [
    {
     "name": "stdout",
     "output_type": "stream",
     "text": [
      "X:\n",
      " [[6. 6. 6.]\n",
      " [6. 6. 6.]\n",
      " [6. 6. 6.]] \n",
      "\n",
      "Y:\n",
      " [[4 5 0]\n",
      " [0 1 0]\n",
      " [3 0 3]] \n",
      "\n",
      "Elementwise Multiplication X*Y:\n",
      " [[24. 30.  0.]\n",
      " [ 0.  6.  0.]\n",
      " [18.  0. 18.]] \n",
      "\n",
      "Dot Product X.Y:\n",
      " [[42. 36. 18.]\n",
      " [42. 36. 18.]\n",
      " [42. 36. 18.]] \n",
      "\n",
      "Cross Product X x Y:\n",
      " [[-30.  24.   6.]\n",
      " [ -6.   0.   6.]\n",
      " [ 18.   0. -18.]]\n"
     ]
    }
   ],
   "source": [
    "x = np.ones((3,3))*6\n",
    "y = np.array([[4,5,0],\n",
    "              [0,1,0],\n",
    "              [3,0,3]])\n",
    "z = np.array([[10,10],\n",
    "              [5,5]])\n",
    "\n",
    "print('X:\\n',x,\n",
    "      '\\n\\nY:\\n',y,\n",
    "      '\\n\\nElementwise Multiplication X*Y:\\n',x*y,\n",
    "      '\\n\\nDot Product X.Y:\\n',x@y,\n",
    "      '\\n\\nCross Product X x Y:\\n',np.cross(x,y))\n"
   ]
  },
  {
   "cell_type": "code",
   "execution_count": null,
   "metadata": {},
   "outputs": [],
   "source": [
    "x = np.one((3,3))*6\n",
    "y = np.array([[1,2,3],[4,5,6],[7,8,9]])\n"
   ]
  },
  {
   "cell_type": "code",
   "execution_count": 38,
   "metadata": {},
   "outputs": [
    {
     "data": {
      "text/plain": [
       "array([[10, 10],\n",
       "       [ 5,  5]])"
      ]
     },
     "execution_count": 38,
     "metadata": {},
     "output_type": "execute_result"
    }
   ],
   "source": [
    "z\n"
   ]
  },
  {
   "cell_type": "code",
   "execution_count": 25,
   "metadata": {},
   "outputs": [
    {
     "name": "stdout",
     "output_type": "stream",
     "text": [
      "[[10. 10.]\n",
      " [10. 10.]]\n",
      "[[1 2]\n",
      " [4 5]]\n",
      "[[10. 20.]\n",
      " [40. 50.]]\n",
      "[[42. 36. 18.]\n",
      " [42. 36. 18.]\n",
      " [42. 36. 18.]]\n",
      "[10. 10.]\n"
     ]
    }
   ],
   "source": [
    "x1 = np.ones((2,2))*10\n",
    "print(x1)\n",
    "y1 = np.array([[1,2],\n",
    "               [4,5]])\n",
    "print(y1)\n",
    "print(x1*y1)\n",
    "print(x@y)\n",
    "print(np.cross(x1,y1))"
   ]
  },
  {
   "cell_type": "code",
   "execution_count": 26,
   "metadata": {},
   "outputs": [
    {
     "name": "stdout",
     "output_type": "stream",
     "text": [
      "X: [[3. 3. 3.]\n",
      " [3. 3. 3.]\n",
      " [3. 3. 3.]]\n",
      "Y: [[4 5 0]\n",
      " [0 1 0]\n",
      " [3 0 3]]\n",
      "Elementwise mutiplication:\n",
      " [[12. 15.  0.]\n",
      " [ 0.  3.  0.]\n",
      " [ 9.  0.  9.]]\n",
      "Dot Product\n",
      " [[21. 18.  9.]\n",
      " [21. 18.  9.]\n",
      " [21. 18.  9.]]\n",
      "Cross Product\n",
      " [[-15.  12.   3.]\n",
      " [ -3.   0.   3.]\n",
      " [  9.   0.  -9.]]\n"
     ]
    }
   ],
   "source": [
    "x =np.ones((3,3))*3\n",
    "print('X:',x)\n",
    "y = np.array([[4,5,0],[0,1,0],[3,0,3]])\n",
    "print('Y:',y)\n",
    "print('Elementwise mutiplication:\\n', x*y)\n",
    "print('Dot Product\\n', x@y)\n",
    "print('Cross Product\\n', np.cross(x,y))"
   ]
  },
  {
   "cell_type": "markdown",
   "metadata": {},
   "source": [
    "If you have Ax = b and you want to find x:"
   ]
  },
  {
   "cell_type": "code",
   "execution_count": 41,
   "metadata": {},
   "outputs": [
    {
     "name": "stdout",
     "output_type": "stream",
     "text": [
      "[ 1.69230769 -0.76923077 -0.03846154]\n"
     ]
    }
   ],
   "source": [
    "A = np.array([[4,5,-2],\n",
    "              [1,-3,0],\n",
    "              [3,0,2]])\n",
    "b = [3,4,5]\n",
    "x = np.linalg.solve(A,b)\n",
    "print(x)\n",
    "### np.linalg.solve()"
   ]
  },
  {
   "cell_type": "code",
   "execution_count": 28,
   "metadata": {},
   "outputs": [
    {
     "name": "stdout",
     "output_type": "stream",
     "text": [
      "[ 1.70588235 -0.76470588]\n"
     ]
    }
   ],
   "source": [
    "A = np.array([[4,5],\n",
    "              [1,-3]])\n",
    "b = [3,4]\n",
    "x =np.linalg.solve(A,b)\n",
    "print(x)"
   ]
  },
  {
   "cell_type": "markdown",
   "metadata": {},
   "source": [
    "### Numpy and Matplotlib Practice ###\n",
    "\n",
    "Solve this set of linear equations for x,y,z and create a numpy array with the shape (x,y,z) that is all zero everywhere except the boundary. Plot the array where x = 1.\n",
    "\n",
    "4x + 6y + 3z = 64 \\\n",
    "5x + 7y -6z = 19 \\\n",
    "-3x - 5y + 7z = 5 "
   ]
  },
  {
   "cell_type": "code",
   "execution_count": 29,
   "metadata": {},
   "outputs": [
    {
     "data": {
      "text/plain": [
       "[<matplotlib.lines.Line2D at 0x1dcba018a60>]"
      ]
     },
     "execution_count": 29,
     "metadata": {},
     "output_type": "execute_result"
    },
    {
     "data": {
      "image/png": "[encoded data removed]",
      "text/plain": [
       "<Figure size 432x288 with 1 Axes>"
      ]
     },
     "metadata": {
      "needs_background": "light"
     },
     "output_type": "display_data"
    }
   ],
   "source": [
    "A = np.array([[4,6,3],\n",
    "              [5,7,-6],\n",
    "              [-3,-5,7]])\n",
    "b = [64,19,5]\n",
    "\n",
    "x= np.linalg.solve(A,b)\n",
    "\n",
    "new_array = np.array([x])\n",
    "plt.plot(x)"
   ]
  },
  {
   "cell_type": "code",
   "execution_count": 53,
   "metadata": {},
   "outputs": [
    {
     "ename": "ModuleNotFoundError",
     "evalue": "No module named 'yfinance'",
     "output_type": "error",
     "traceback": [
      "\u001b[1;31m---------------------------------------------------------------------------\u001b[0m",
      "\u001b[1;31mModuleNotFoundError\u001b[0m                       Traceback (most recent call last)",
      "\u001b[1;32m~\\AppData\\Local\\Temp/ipykernel_16884/3933113930.py\u001b[0m in \u001b[0;36m<module>\u001b[1;34m\u001b[0m\n\u001b[1;32m----> 1\u001b[1;33m \u001b[1;32mimport\u001b[0m \u001b[0myfinance\u001b[0m \u001b[1;32mas\u001b[0m \u001b[0myf\u001b[0m\u001b[1;33m\u001b[0m\u001b[1;33m\u001b[0m\u001b[0m\n\u001b[0m\u001b[0;32m      2\u001b[0m \u001b[0mdata\u001b[0m \u001b[1;33m=\u001b[0m \u001b[0myf\u001b[0m\u001b[1;33m.\u001b[0m\u001b[0mdownload\u001b[0m\u001b[1;33m(\u001b[0m\u001b[1;34m\"SPY\"\u001b[0m\u001b[1;33m)\u001b[0m\u001b[1;33m\u001b[0m\u001b[1;33m\u001b[0m\u001b[0m\n\u001b[0;32m      3\u001b[0m \u001b[0mdata\u001b[0m\u001b[1;33m.\u001b[0m\u001b[0mhead\u001b[0m\u001b[1;33m(\u001b[0m\u001b[1;33m)\u001b[0m\u001b[1;33m\u001b[0m\u001b[1;33m\u001b[0m\u001b[0m\n",
      "\u001b[1;31mModuleNotFoundError\u001b[0m: No module named 'yfinance'"
     ]
    }
   ],
   "source": [
    "import yfinance as yf\n",
    "data = yf.download(\"SPY\")\n",
    "data.head()"
   ]
  },
  {
   "cell_type": "code",
   "execution_count": 30,
   "metadata": {},
   "outputs": [
    {
     "name": "stdout",
     "output_type": "stream",
     "text": [
      "sun mon tues wed thurs fri\n"
     ]
    }
   ],
   "source": [
    "# list to string\n",
    "weekdays = ['sun','mon','tues','wed','thurs','fri']\n",
    "listtostring = ' '.join(weekdays)\n",
    "print(listtostring)"
   ]
  },
  {
   "cell_type": "code",
   "execution_count": 31,
   "metadata": {},
   "outputs": [
    {
     "data": {
      "text/plain": [
       "('sun', 'mon', 'tues', 'wed', 'thurs', 'fri')"
      ]
     },
     "execution_count": 31,
     "metadata": {},
     "output_type": "execute_result"
    }
   ],
   "source": [
    "# list to tuple \n",
    "listtotuple = tuple(weekdays)\n",
    "listtotuple"
   ]
  },
  {
   "cell_type": "code",
   "execution_count": 32,
   "metadata": {},
   "outputs": [
    {
     "data": {
      "text/plain": [
       "{'fri', 'mon', 'sun', 'thurs', 'tues', 'wed'}"
      ]
     },
     "execution_count": 32,
     "metadata": {},
     "output_type": "execute_result"
    }
   ],
   "source": [
    "#list to set\n",
    "listtoset = set(weekdays)\n",
    "listtoset"
   ]
  },
  {
   "cell_type": "code",
   "execution_count": 39,
   "metadata": {},
   "outputs": [
    {
     "name": "stdout",
     "output_type": "stream",
     "text": [
      "0 python\n",
      "1 java\n",
      "2 R\n"
     ]
    }
   ],
   "source": [
    "#Enumerate Function accept sequential indexes starting from zero.\n",
    "subjects = ['python', 'java', 'R']\n",
    "for i, subject in enumerate(subjects):\n",
    "    print(i, subject)"
   ]
  },
  {
   "cell_type": "raw",
   "metadata": {},
   "source": [
    "# SET collections contain unique immutabe object\n",
    "languages = {\"python\",\"java\",\"javascript\",\"Rstudio\",\"AWS\"}\n",
    "print(languages)\n",
    "print(len(languages))\n",
    "\n",
    "items = set()\n",
    "items.add(\"Python\")\n",
    "items.add(\"java\")\n",
    "items.add(\"Rstudio\")\n",
    "print(items)"
   ]
  },
  {
   "cell_type": "code",
   "execution_count": 60,
   "metadata": {},
   "outputs": [
    {
     "data": {
      "text/plain": [
       "1"
      ]
     },
     "execution_count": 60,
     "metadata": {},
     "output_type": "execute_result"
    }
   ],
   "source": [
    "# Random Numbers in python\n",
    "import random\n",
    "x = random.randint(1,100)\n",
    "x\n"
   ]
  },
  {
   "cell_type": "code",
   "execution_count": 64,
   "metadata": {},
   "outputs": [
    {
     "data": {
      "text/plain": [
       "2.6070496200658617"
      ]
     },
     "execution_count": 64,
     "metadata": {},
     "output_type": "execute_result"
    }
   ],
   "source": [
    "y = random.uniform(1,3)\n",
    "y"
   ]
  },
  {
   "cell_type": "code",
   "execution_count": 66,
   "metadata": {},
   "outputs": [
    {
     "data": {
      "text/plain": [
       "93"
      ]
     },
     "execution_count": 66,
     "metadata": {},
     "output_type": "execute_result"
    }
   ],
   "source": [
    "z = random.randrange(1,100)\n",
    "z"
   ]
  },
  {
   "cell_type": "code",
   "execution_count": 68,
   "metadata": {},
   "outputs": [
    {
     "name": "stdout",
     "output_type": "stream",
     "text": [
      "5050\n"
     ]
    }
   ],
   "source": [
    "print(sum(range(1,101)))"
   ]
  },
  {
   "cell_type": "code",
   "execution_count": 72,
   "metadata": {},
   "outputs": [
    {
     "name": "stdout",
     "output_type": "stream",
     "text": [
      "[  1   2   3   4   5   6   7   8   9  10  11  12  13  14  15  16  17  18\n",
      "  19  20  21  22  23  24  25  26  27  28  29  30  31  32  33  34  35  36\n",
      "  37  38  39  40  41  42  43  44  45  46  47  48  49  50  51  52  53  54\n",
      "  55  56  57  58  59  60  61  62  63  64  65  66  67  68  69  70  71  72\n",
      "  73  74  75  76  77  78  79  80  81  82  83  84  85  86  87  88  89  90\n",
      "  91  92  93  94  95  96  97  98  99 100]\n"
     ]
    }
   ],
   "source": [
    "print(np.arange(1,101))"
   ]
  },
  {
   "cell_type": "code",
   "execution_count": 74,
   "metadata": {},
   "outputs": [],
   "source": [
    "###How do you set a global variable inside a function?\n",
    "###A) Yes, we can use a global variable in other functions by declaring it as global in each function that assigns to it:\n",
    "globvar = 0 \n",
    "def set_globvar_to_one():\n",
    "    global globvar\n",
    "set_globvar_to_one()"
   ]
  },
  {
   "cell_type": "code",
   "execution_count": 78,
   "metadata": {},
   "outputs": [
    {
     "name": "stdout",
     "output_type": "stream",
     "text": [
      "1\n"
     ]
    }
   ],
   "source": [
    "globvar = 1\n",
    "def print_globvar():\n",
    "    print(globvar)\n",
    "print_globvar()"
   ]
  },
  {
   "cell_type": "code",
   "execution_count": 84,
   "metadata": {},
   "outputs": [
    {
     "name": "stdout",
     "output_type": "stream",
     "text": [
      "['Alice', 'Bear', 'Charlton', 'Daman']\n",
      "['Alice', 'Bear', 'Charlton', 'Daman']\n",
      "['Amir', 'Bob', 'Charlton', 'Daman']\n"
     ]
    }
   ],
   "source": [
    "names1 = ['Amir', 'Bear', 'Charlton', 'Daman']\n",
    "names2 = names1\n",
    "names3 = names1[:]\n",
    "\n",
    "names2[0] = 'Alice'\n",
    "names3[1] = 'Bob'\n",
    "print(names1)\n",
    "print(names2)\n",
    "print(names3)"
   ]
  },
  {
   "cell_type": "code",
   "execution_count": 81,
   "metadata": {},
   "outputs": [
    {
     "name": "stdout",
     "output_type": "stream",
     "text": [
      "10\n"
     ]
    }
   ],
   "source": [
    "sum = 0\n",
    "for ls in (names1,names2,names3):\n",
    "    if ls[0] == 'Alice':\n",
    "        sum += 1\n",
    "    if ls[1] == 'Bob':\n",
    "        sum += 8\n",
    "print(sum)"
   ]
  },
  {
   "cell_type": "code",
   "execution_count": 8,
   "metadata": {},
   "outputs": [
    {
     "name": "stdout",
     "output_type": "stream",
     "text": [
      "Enter the number of elements to be inseted:2\n",
      "Enter Element:10\n",
      "Average of element in the list: 5.0\n",
      "Enter Element:10\n",
      "Average of element in the list: 10.0\n"
     ]
    }
   ],
   "source": [
    "#Program Average Number in a list ???\n",
    "n = int(input(\"Enter the number of elements to be inseted:\"))\n",
    "\n",
    "a = []\n",
    "for i in range(0,n):\n",
    "    element = int(input(\"Enter Element:\"))\n",
    "    a.append(element)\n",
    "    averge = sum(a)/n\n",
    "    print(\"Average of element in the list:\", round(averge,2))"
   ]
  },
  {
   "cell_type": "markdown",
   "metadata": {},
   "source": []
  },
  {
   "cell_type": "code",
   "execution_count": 9,
   "metadata": {},
   "outputs": [
    {
     "name": "stdout",
     "output_type": "stream",
     "text": [
      "Enter Number:4321\n",
      "the reverse f number: 1234\n"
     ]
    }
   ],
   "source": [
    "#Reverse a Number in Python Palindrome Number \n",
    "#num = 4562 \n",
    "#rev_num = 0\n",
    "#rev_num = rev_num *10 + num%10 = 2 \n",
    "#num = num/10 = 456\n",
    "#rev_num = rev_num *10 + num%10 = 20 + 6 = 26 \n",
    "#num = num/10 = 45\n",
    "#rev_num = rev_num *10 + num%10 = 260 + 5 = 265 \n",
    "#num = num/10 = 4\n",
    "#rev_num = rev_num *10 + num%10 = 2650 + 4 = 2654 \n",
    "#num = num/10 = 0\n",
    "\n",
    "n = int(input(\"Enter Number:\"))\n",
    "rev = 0\n",
    "while n > 0:\n",
    "    dig = n%10\n",
    "    rev = rev*10 + dig\n",
    "    n=n//10 \n",
    "    \n",
    "print(\"the reverse f number:\", rev)"
   ]
  },
  {
   "cell_type": "code",
   "execution_count": 10,
   "metadata": {},
   "outputs": [
    {
     "name": "stdout",
     "output_type": "stream",
     "text": [
      "Reverse of no. is  54\n"
     ]
    }
   ],
   "source": [
    "##Reverse a Number in Python Palindrome Number String Reverse\n",
    "\n",
    "def reversDigits(num):\n",
    " \n",
    "    # converting number to string\n",
    "    string = str(num)\n",
    " \n",
    "    # reversing the string\n",
    "    string = list(string)\n",
    "    string.reverse()\n",
    "    string = ''.join(string)\n",
    " \n",
    "    # converting string to integer\n",
    "    num = int(string)\n",
    " \n",
    "    # returning integer\n",
    "    return num\n",
    " \n",
    "# Driver code\n",
    "if __name__ == \"__main__\":\n",
    " \n",
    "    num = 45\n",
    "    print(\"Reverse of no. is \", reversDigits(num))\n",
    " "
   ]
  },
  {
   "cell_type": "code",
   "execution_count": 27,
   "metadata": {},
   "outputs": [
    {
     "name": "stdout",
     "output_type": "stream",
     "text": [
      "Enter a nuber:1928\n",
      "The total sum fo digit is: 20\n"
     ]
    }
   ],
   "source": [
    "###Sum of digit of number\n",
    "n = int(input(\"Enter a nuber:\"))\n",
    "\n",
    "tot = 0 \n",
    "while (n>0):\n",
    "    dig = n%10\n",
    "    tot = dig + tot\n",
    "    n = n//10\n",
    "print(\"The total sum fo digit is:\", tot)\n"
   ]
  },
  {
   "cell_type": "code",
   "execution_count": 36,
   "metadata": {},
   "outputs": [
    {
     "name": "stdout",
     "output_type": "stream",
     "text": [
      "Enter Number:1551\n",
      "The number is palindorme! 1551\n"
     ]
    }
   ],
   "source": [
    "###Write a Python Program to Check if a Number is a Palindrome or not?\n",
    "n = int(input(\"Enter Number:\"))\n",
    "rev = 0\n",
    "temp = n\n",
    "while (n>0):\n",
    "    dig = n%10\n",
    "    rev = rev*10 +dig\n",
    "    n = n//10\n",
    "if (temp == rev):\n",
    "    print(\"The number is palindorme!\", rev)\n",
    "else: \n",
    "    print(\"The number is not palindrome!\", rev)\n"
   ]
  },
  {
   "cell_type": "code",
   "execution_count": 1,
   "metadata": {},
   "outputs": [
    {
     "name": "stdout",
     "output_type": "stream",
     "text": [
      "Enter Number:14325\n",
      "THe number of digits in the number is: 5\n"
     ]
    }
   ],
   "source": [
    "###25) Write a Python Program to Count the Number of Digits in a Number?\n",
    "n = int(input(\"Enter Number:\"))\n",
    "count = 0 \n",
    "while (n>0):\n",
    "    count = count +1\n",
    "    n = n//10\n",
    "print(\"THe number of digits in the number is:\", count)"
   ]
  },
  {
   "cell_type": "code",
   "execution_count": 4,
   "metadata": {},
   "outputs": [
    {
     "name": "stdout",
     "output_type": "stream",
     "text": [
      "Enter the number to print the tables for:7\n",
      "7 x 1 = 7\n",
      "7 x 2 = 14\n",
      "7 x 3 = 21\n",
      "7 x 4 = 28\n",
      "7 x 5 = 35\n",
      "7 x 6 = 42\n",
      "7 x 7 = 49\n",
      "7 x 8 = 56\n",
      "7 x 9 = 63\n",
      "7 x 10 = 70\n"
     ]
    }
   ],
   "source": [
    "# Print Table of givn number \n",
    "\n",
    "n = int(input(\"Enter the number to print the tables for:\"))\n",
    "\n",
    "for i in range(1,11):\n",
    "    sum = n * i\n",
    "    print(n,\"x\",i,\"=\",sum)"
   ]
  },
  {
   "cell_type": "code",
   "execution_count": 5,
   "metadata": {},
   "outputs": [
    {
     "name": "stdout",
     "output_type": "stream",
     "text": [
      "Enter Number:200\n",
      "200 is even number\n"
     ]
    }
   ],
   "source": [
    "#Check is number is Even Number \n",
    "\n",
    "n = int(input(\"Enter Number:\"))\n",
    "\n",
    "if n %2 == 0:\n",
    "    print(n,\"is even number\")\n",
    "else:\n",
    "    print(n,\"is obb number\")"
   ]
  },
  {
   "cell_type": "code",
   "execution_count": 4,
   "metadata": {},
   "outputs": [
    {
     "name": "stdout",
     "output_type": "stream",
     "text": [
      "Enter Number:199\n",
      "199 is obb number\n"
     ]
    }
   ],
   "source": [
    "#Check is number is Odd Number \n",
    "n = int(input(\"Enter Number:\"))\n",
    "\n",
    "if n %2 == 0:\n",
    "    print(n,\"is even number\")\n",
    "else:\n",
    "    print(n,\"is obb number\")"
   ]
  },
  {
   "cell_type": "code",
   "execution_count": 22,
   "metadata": {},
   "outputs": [
    {
     "name": "stdout",
     "output_type": "stream",
     "text": [
      "Enter Number:10\n",
      "10 2 is not a prime number\n"
     ]
    }
   ],
   "source": [
    "#Check is number is Prime Number For Else Method\n",
    "n = int(input(\"Enter Number:\"))\n",
    "\n",
    "if n > 1:\n",
    "    for i in range(2,n):\n",
    "        if n%i == 0:\n",
    "            print(n,i, \"is not a prime number\")\n",
    "            break\n",
    "        else:\n",
    "            print(n, \"is a prime number\")\n",
    "else:\n",
    "    print(n,\"not a prime number\")"
   ]
  },
  {
   "cell_type": "code",
   "execution_count": 24,
   "metadata": {},
   "outputs": [
    {
     "name": "stdout",
     "output_type": "stream",
     "text": [
      "Enter Number:15\n",
      "15 is not prime number\n",
      "15 is not prime number\n",
      "15 is not prime number\n",
      "15 is not prime number\n",
      "15 is not prime number\n",
      "15 is not prime number\n"
     ]
    }
   ],
   "source": [
    "#Check is number is Prime Number For Else Method\n",
    "n = int(input(\"Enter Number:\"))\n",
    "k = 0\n",
    "for i in range(2,n//2+1):\n",
    "    if (n%i==0):\n",
    "        k=k+1\n",
    "    if (k<0):\n",
    "        print(n, \"is a prime number\")\n",
    "    else:\n",
    "        print(n, \"is not prime number\")\n"
   ]
  },
  {
   "cell_type": "code",
   "execution_count": 4,
   "metadata": {},
   "outputs": [
    {
     "name": "stdout",
     "output_type": "stream",
     "text": [
      "10 is not a Prime Number\n"
     ]
    }
   ],
   "source": [
    "#Check is number is Prime Number For FLAG Method\n",
    "num = 10\n",
    "\n",
    "flag = False\n",
    "\n",
    "if num > 1:\n",
    "    for i in range(2, num):\n",
    "        if (num%i) == 0:\n",
    "            flag = True\n",
    "            break\n",
    "if flag:\n",
    "    print(num,\"is not a Prime Number\")\n",
    "else:\n",
    "    print(num,\"is a Prime Number\")"
   ]
  },
  {
   "cell_type": "code",
   "execution_count": 8,
   "metadata": {},
   "outputs": [
    {
     "name": "stdout",
     "output_type": "stream",
     "text": [
      "Enter the number of elements in list:4\n",
      "Enter element23\n",
      "Enter element45\n",
      "Enter element67\n",
      "Enter element89\n",
      "[89, 45, 67, 23]\n"
     ]
    }
   ],
   "source": [
    "# Swap first and last number in list\n",
    "a = []\n",
    "n = int(input(\"Enter the number of elements in list:\"))\n",
    "\n",
    "for i in range(0,n):\n",
    "    element = int(input(\"Enter element\"))\n",
    "    a.append(element)\n",
    "temp = a[0]\n",
    "a[0] = a[n-1]\n",
    "a[n-1] = temp\n",
    "print(a)"
   ]
  },
  {
   "cell_type": "code",
   "execution_count": 18,
   "metadata": {},
   "outputs": [
    {
     "name": "stdout",
     "output_type": "stream",
     "text": [
      "Enter number of element4\n",
      "Enter element23\n",
      "Enter element56\n",
      "Enter element39\n",
      "Enter element11\n",
      "Second largest number is: 39\n"
     ]
    }
   ],
   "source": [
    "# Find second largest number in a list\n",
    "a=[]\n",
    "n = int(input(\"Enter number of element\"))\n",
    "for i in range(0,n):\n",
    "    element = int(input(\"Enter element\"))\n",
    "    a.append(element)\n",
    "a.sort()\n",
    "print(\"Second largest number is:\", a[n-2])"
   ]
  },
  {
   "cell_type": "code",
   "execution_count": 6,
   "metadata": {},
   "outputs": [
    {
     "name": "stdout",
     "output_type": "stream",
     "text": [
      "Enter String:malayalam\n",
      "The string is palindrome\n"
     ]
    }
   ],
   "source": [
    "#Check if string is a palindorme or not\n",
    "string = input(\"Enter String:\")\n",
    "\n",
    "if (string == string[::-1]):\n",
    "    print(\"The string is palindrome\")\n",
    "else:\n",
    "    print(\"Not a palindrome\")"
   ]
  },
  {
   "cell_type": "code",
   "execution_count": 8,
   "metadata": {},
   "outputs": [
    {
     "name": "stdout",
     "output_type": "stream",
     "text": [
      "Eneter String:hello world\n",
      "Number of vowels are\n",
      "3\n"
     ]
    }
   ],
   "source": [
    "#Count number of vowel in a string\n",
    "string = input(\"Eneter String:\")\n",
    "\n",
    "vowels = 0\n",
    "for i in string:\n",
    "    if (i == 'a' or i == 'e' or i == 'i' or i == 'o' or i == 'u'):\n",
    "        vowels = vowels+1\n",
    "print(\"Number of vowels are\")\n",
    "print(vowels)"
   ]
  },
  {
   "cell_type": "code",
   "execution_count": null,
   "metadata": {},
   "outputs": [],
   "source": []
  }
 ],
 "metadata": {
  "kernelspec": {
   "display_name": "Python 3 (ipykernel)",
   "language": "python",
   "name": "python3"
  },
  "language_info": {
   "codemirror_mode": {
    "name": "ipython",
    "version": 3
   },
   "file_extension": ".py",
   "mimetype": "text/x-python",
   "name": "python",
   "nbconvert_exporter": "python",
   "pygments_lexer": "ipython3",
   "version": "3.9.7"
  }
 },
 "nbformat": 4,
 "nbformat_minor": 4
}
